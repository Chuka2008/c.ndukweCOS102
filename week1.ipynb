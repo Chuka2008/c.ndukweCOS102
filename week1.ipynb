{
 "cells": [
  {
   "cell_type": "code",
   "execution_count": 8,
   "id": "3e7ce632",
   "metadata": {},
   "outputs": [
    {
     "name": "stdout",
     "output_type": "stream",
     "text": [
      "WELCOME TO MY CALCULATOR\n",
      "Choose your function:\n",
      "1. Simple Interest\n",
      "2. Compound Interest\n",
      "3. Annuity Plan\n",
      "Enter choice (1,2,3):1\n",
      "Enter Principal Amount500\n",
      "Enter Rate Amount: 5\n",
      "Enter Time(Years): 2\n",
      "Simple Interest Amount: 550.0\n"
     ]
    }
   ],
   "source": [
    "def simple_interest(P, R, T):\n",
    "    A = P *( 1 + (R/100)*T)\n",
    "    return A\n",
    "def compound_interest(P, R, n, t):\n",
    "    A = P * 1 + R/n ^ n*t\n",
    "    return A\n",
    "def annuity(PMT, R, n, t):\n",
    "    A = PMT*((1 + R/n)^nt - 1)/(R/n)\n",
    "    return A\n",
    "    \n",
    "def main():  \n",
    "    print (\"WELCOME TO MY CALCULATOR\")\n",
    "    print (\"Choose your function:\")\n",
    "    print (\"1. Simple Interest\")\n",
    "    print (\"2. Compound Interest\")\n",
    "    print (\"3. Annuity Plan\")\n",
    "\n",
    "    choice = int(input(\"Enter choice (1,2,3):\"))\n",
    "\n",
    "    if choice == 1:\n",
    "        P = float(input(\"Enter Principal Amount\"))\n",
    "        R = float(input(\"Enter Rate Amount: \"))\n",
    "        T = float(input(\"Enter Time(Years): \"))\n",
    "        print (\"Simple Interest Amount:\",simple_interest(P, R, T))\n",
    "    \n",
    "    elif choice == 2:\n",
    "        P = float(input(\"Enter Principal Amount\"))\n",
    "        R = float(input(\"Enter Rate Amount: \"))\n",
    "        t = float(input(\"Enter Time(Years): \"))\n",
    "        n = float(input(\"Enter number of compound periods\"))\n",
    "        print (\"Compound Interest Amount:\", compound_interest(P, R, n, t))\n",
    "        \n",
    "    elif choice == 3:\n",
    "        PMT = float(input(\"Enter Periodic Payment Amount:\"))\n",
    "        R = float(input(\"Enter Rate Amount(%)\"))\n",
    "        t = float(input(\"Enter Time(Years)\"))\n",
    "        n = float(input(\"Enter number of payments per year:\"))\n",
    "        print (\"Annuity Plan Amount:\", annuity(PMT, R, n, t))\n",
    "        \n",
    "    else:\n",
    "        print (\"Invalid choice\")\n",
    "        \n",
    "main()\n",
    "        \n"
   ]
  },
  {
   "cell_type": "code",
   "execution_count": null,
   "id": "6d90bdd9",
   "metadata": {},
   "outputs": [],
   "source": []
  },
  {
   "cell_type": "code",
   "execution_count": null,
   "id": "eccaa394",
   "metadata": {},
   "outputs": [],
   "source": []
  }
 ],
 "metadata": {
  "kernelspec": {
   "display_name": "Python 3 (ipykernel)",
   "language": "python",
   "name": "python3"
  },
  "language_info": {
   "codemirror_mode": {
    "name": "ipython",
    "version": 3
   },
   "file_extension": ".py",
   "mimetype": "text/x-python",
   "name": "python",
   "nbconvert_exporter": "python",
   "pygments_lexer": "ipython3",
   "version": "3.10.9"
  }
 },
 "nbformat": 4,
 "nbformat_minor": 5
}
